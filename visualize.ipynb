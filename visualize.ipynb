{
 "cells": [
  {
   "cell_type": "code",
   "execution_count": null,
   "metadata": {},
   "outputs": [],
   "source": [
    "import os\n",
    "import pandas as pd\n",
    "import seaborn as sns\n",
    "from matplotlib import pyplot as plt\n",
    "from statsmodels.distributions.empirical_distribution import ECDF\n",
    "from sklearn.metrics import cohen_kappa_score\n",
    "from scipy.stats import skew\n",
    "from scipy.stats import kurtosis\n",
    "from statistics import variance"
   ]
  },
  {
   "cell_type": "code",
   "execution_count": null,
   "metadata": {},
   "outputs": [],
   "source": [
    "# load the data\n",
    "path = os.path.join(\"data\", \"sample\")\n",
    "train = pd.read_excel(os.path.join(path, \"train.xlsx\"))\n",
    "test = pd.read_excel(os.path.join(path, \"test.xlsx\"))\n",
    "validation = pd.read_excel(os.path.join(path, \"valid.xlsx\"))\n",
    "\n",
    "df = pd.concat([train, test, validation])"
   ]
  },
  {
   "cell_type": "code",
   "execution_count": null,
   "metadata": {},
   "outputs": [],
   "source": [
    "df.columns\n",
    "df.min()\n",
    "df.max()\n",
    "\n",
    "emotions = [\n",
    "    \"joy_x\",\n",
    "    \"trust_x\",\n",
    "    \"anticipation_x\",\n",
    "    \"surprise_x\",\n",
    "    \"fear_x\",\n",
    "    \"sadness_x\",\n",
    "    \"disgust_x\",\n",
    "    \"anger_x\",\n",
    "    \"valence_x\",\n",
    "    \"arousal_x\",\n",
    "    \"joy_y\",\n",
    "    \"trust_y\",\n",
    "    \"anticipation_y\",\n",
    "    \"surprise_y\",\n",
    "    \"fear_y\",\n",
    "    \"sadness_y\",\n",
    "    \"disgust_y\",\n",
    "    \"anger_y\",\n",
    "    \"valence_y\",\n",
    "    \"arousal_y\",\n",
    "]"
   ]
  },
  {
   "cell_type": "markdown",
   "metadata": {},
   "source": [
    "### Functions"
   ]
  },
  {
   "cell_type": "markdown",
   "metadata": {},
   "source": [
    "#### ksdensity"
   ]
  },
  {
   "cell_type": "code",
   "execution_count": null,
   "metadata": {},
   "outputs": [],
   "source": [
    "def create_histogram(sample, which_col, person):\n",
    "    \"\"\"sample - one column\n",
    "    histogram + median + mean\n",
    "    person = { X , Y}\n",
    "    which_col = {joy, trust, anticipation, ...}\"\"\"\n",
    "    plt.figure(0)\n",
    "\n",
    "    result = plt.hist(\n",
    "        sample, bins=40, color=\"mediumseagreen\", edgecolor=\"k\", alpha=0.65\n",
    "    )\n",
    "    plt.axvline(sample.mean(), color=\"k\", linestyle=\"dashed\", linewidth=1)\n",
    "    plt.axvline(sample.median(), color=\"k\", linestyle=\"dashed\", linewidth=1)\n",
    "\n",
    "    min_ylim, max_ylim = plt.ylim()\n",
    "    plt.text(\n",
    "        sample.mean() * 1.1,\n",
    "        max_ylim * 0.9,\n",
    "        \"Mean: {:.2f}\".format(sample.mean()),\n",
    "    )\n",
    "    plt.text(\n",
    "        sample.median() * 1.1,\n",
    "        max_ylim * 0.8,\n",
    "        \"Median: {:.2f}\".format(sample.median()),\n",
    "    )\n",
    "\n",
    "    plt.grid()\n",
    "    plt.title(\n",
    "        \"Histogram of {which_col} for a person {person}\".format(\n",
    "            which_col=which_col, person=person\n",
    "        ),\n",
    "        loc=\"center\",\n",
    "    )\n",
    "    plt.xlabel(\"Value of opinion\")\n",
    "    plt.ylabel(\"Frequency\")\n",
    "    plt.show()"
   ]
  },
  {
   "cell_type": "markdown",
   "metadata": {},
   "source": [
    "#### ecdf"
   ]
  },
  {
   "cell_type": "code",
   "execution_count": null,
   "metadata": {},
   "outputs": [],
   "source": [
    "def create_ecdf(sample, which_col, person):\n",
    "    \"\"\"sample - one column\n",
    "    person = {X , Y}\n",
    "    which_col = {joy, trust, anticipation, ...}\"\"\"\n",
    "    plt.figure(0)\n",
    "    ecdf = ECDF(sample)\n",
    "    plt.plot(ecdf.x, ecdf.y)\n",
    "\n",
    "    plt.grid()\n",
    "    plt.title(\n",
    "        \"Cumulative distribution function of {which_col} for a person {person}\".format(\n",
    "            which_col=which_col, person=person\n",
    "        ),\n",
    "        loc=\"center\",\n",
    "    )\n",
    "    plt.xlabel(\"Sample\")\n",
    "    plt.ylabel(\"Probability\")\n",
    "    plt.show()"
   ]
  },
  {
   "cell_type": "code",
   "execution_count": null,
   "metadata": {},
   "outputs": [],
   "source": [
    "def normalization(df, emotions):\n",
    "    # normalization  musi byc min-max a nie -mean/ std bo mamy wartosci ujemne\n",
    "    # w kolumnach\n",
    "    normalized_df = (df[emotions] - df[emotions].min()) / (\n",
    "        df[emotions].max() - df[emotions].min()\n",
    "    )\n",
    "    return normalized_df"
   ]
  },
  {
   "cell_type": "code",
   "execution_count": null,
   "metadata": {},
   "outputs": [],
   "source": [
    "def create_boxplot(normalized_df, emotions):\n",
    "    plt.figure(figsize=(16, 5))\n",
    "    plt.title(\"Boxplot of min-max normalized datasets\", fontsize=14)\n",
    "    boxplot = normalized_df.boxplot(column=emotions, rot=45, fontsize=12)"
   ]
  },
  {
   "cell_type": "markdown",
   "metadata": {},
   "source": [
    "#### heat map"
   ]
  },
  {
   "cell_type": "code",
   "execution_count": null,
   "metadata": {},
   "outputs": [],
   "source": [
    "def create_heatmap(df, person):\n",
    "    plt.subplots(figsize=(18, 12))\n",
    "    corr = df.corr()\n",
    "    sns.heatmap(\n",
    "        corr,\n",
    "        xticklabels=corr.columns.values,\n",
    "        yticklabels=corr.columns.values,\n",
    "        linewidths=0.5,\n",
    "        annot=True,\n",
    "    ).set(title=\"Heat map for a person {person}\".format(person=person))"
   ]
  },
  {
   "cell_type": "markdown",
   "metadata": {},
   "source": [
    "#### Analysis for person X"
   ]
  },
  {
   "cell_type": "code",
   "execution_count": null,
   "metadata": {},
   "outputs": [],
   "source": [
    "for col_name in emotions[: len(emotions) // 2]:\n",
    "    create_histogram(\n",
    "        df[col_name],\n",
    "        col_name[: len(col_name) - 2],\n",
    "        \"X\",\n",
    "    )\n",
    "    create_ecdf(df[col_name], col_name[: len(col_name) - 2], \"X\")\n",
    "create_heatmap(df, \"X\")"
   ]
  },
  {
   "cell_type": "markdown",
   "metadata": {},
   "source": [
    "#### Analysis for person Y"
   ]
  },
  {
   "cell_type": "code",
   "execution_count": null,
   "metadata": {},
   "outputs": [],
   "source": [
    "for col_name in emotions[len(emotions) // 2 :]:\n",
    "    create_histogram(df[col_name], col_name[: len(col_name) - 2], \"Y\")\n",
    "    create_ecdf(df[col_name], col_name[: len(col_name) - 2], \"Y\")\n",
    "create_heatmap(df, \"Y\")"
   ]
  },
  {
   "cell_type": "markdown",
   "metadata": {},
   "source": [
    "#### Comparison of X and Y; mean opinion value\n",
    "calculate mean value"
   ]
  },
  {
   "cell_type": "code",
   "execution_count": null,
   "metadata": {},
   "outputs": [],
   "source": [
    "joy_x = emotions[0]\n",
    "joy_y = emotions[10]\n",
    "new_col = (df[joy_x] + df[joy_y]) / 2\n",
    "mean_opinion = new_col\n",
    "numerical = joy_x\n",
    "names = [numerical[: len(numerical) - 2]]\n",
    "\n",
    "for i in range(1, 10):\n",
    "    new_col = (df[emotions[i]] + df[emotions[i + 10]]) / 2\n",
    "    mean_opinion = pd.concat([mean_opinion, new_col], axis=1)\n",
    "\n",
    "    column_name = emotions[i]\n",
    "    names.append(column_name[: len(column_name) - 2])\n",
    "\n",
    "mean_opinion.columns = names"
   ]
  },
  {
   "cell_type": "markdown",
   "metadata": {},
   "source": [
    "### Analysis"
   ]
  },
  {
   "cell_type": "code",
   "execution_count": null,
   "metadata": {},
   "outputs": [],
   "source": [
    "for col_name in names:\n",
    "    create_histogram(mean_opinion[col_name], col_name, \"mean(X,Y)\")\n",
    "    create_ecdf(mean_opinion[col_name], col_name, \"mean(X,Y)\")\n",
    "create_heatmap(mean_opinion, \"mean(X,Y)\")"
   ]
  },
  {
   "cell_type": "code",
   "execution_count": null,
   "metadata": {},
   "outputs": [],
   "source": [
    "plt.hist(df[\"joy_x\"], bins=10, alpha=0.5, label=\"joy_x\")\n",
    "plt.hist(df[\"joy_y\"], bins=10, alpha=0.5, label=\"joy_y\")\n",
    "plt.xlabel(\"Data\", size=14)\n",
    "plt.legend(loc=\"upper right\")"
   ]
  },
  {
   "cell_type": "markdown",
   "metadata": {},
   "source": [
    "### Statistics"
   ]
  },
  {
   "cell_type": "markdown",
   "metadata": {},
   "source": [
    "#### Skewness"
   ]
  },
  {
   "cell_type": "code",
   "execution_count": null,
   "metadata": {},
   "outputs": [],
   "source": [
    "for emotion in emotions:\n",
    "    print(emotion)\n",
    "    sample = df[emotion]\n",
    "    print(skew(sample))"
   ]
  },
  {
   "cell_type": "markdown",
   "metadata": {},
   "source": [
    "#### Kurtosis"
   ]
  },
  {
   "cell_type": "code",
   "execution_count": null,
   "metadata": {},
   "outputs": [],
   "source": [
    "for emotion in emotions:\n",
    "    print(emotion)\n",
    "    sample = df[emotion]\n",
    "    print(kurtosis(sample))"
   ]
  },
  {
   "cell_type": "markdown",
   "metadata": {},
   "source": [
    "#### Variance"
   ]
  },
  {
   "cell_type": "code",
   "execution_count": null,
   "metadata": {},
   "outputs": [],
   "source": [
    "for emotion in emotions:\n",
    "    print(emotion)\n",
    "    sample = df[emotion]\n",
    "    print(variance(sample))"
   ]
  },
  {
   "cell_type": "code",
   "execution_count": null,
   "metadata": {},
   "outputs": [],
   "source": [
    "combinations = [\n",
    "    (\"joy_x\", \"joy_y\"),\n",
    "    (\"trust_x\", \"trust_y\"),\n",
    "    (\"anticipation_x\", \"anticipation_y\"),\n",
    "    (\"surprise_x\", \"surprise_y\"),\n",
    "    (\"fear_x\", \"fear_y\"),\n",
    "    (\"sadness_x\", \"sadness_y\"),\n",
    "    (\"disgust_x\", \"disgust_y\"),\n",
    "    (\"anger_x\", \"anger_y\"),\n",
    "    (\"valence_x\", \"valence_y\"),\n",
    "    (\"arousal_x\", \"arousal_y\"),\n",
    "]\n",
    "\n",
    "for comb in combinations:\n",
    "    print(comb, cohen_kappa_score(df[comb[0]], df[comb[1]]))"
   ]
  }
 ],
 "metadata": {
  "kernelspec": {
   "display_name": "Python 3.10.8 ('venv': venv)",
   "language": "python",
   "name": "python3"
  },
  "language_info": {
   "codemirror_mode": {
    "name": "ipython",
    "version": 3
   },
   "file_extension": ".py",
   "mimetype": "text/x-python",
   "name": "python",
   "nbconvert_exporter": "python",
   "pygments_lexer": "ipython3",
   "version": "3.10.8 (main, Oct 12 2022, 19:14:26) [GCC 9.4.0]"
  },
  "orig_nbformat": 4,
  "vscode": {
   "interpreter": {
    "hash": "545013a1323ac85acbcb86b31ff0fee062e8a8ae28497f1d39d2de5e4f3ef90d"
   }
  }
 },
 "nbformat": 4,
 "nbformat_minor": 2
}
