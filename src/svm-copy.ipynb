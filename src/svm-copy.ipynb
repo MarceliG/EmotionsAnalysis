{
 "cells": [
  {
   "cell_type": "code",
   "execution_count": null,
   "metadata": {},
   "outputs": [],
   "source": [
    "from utils.tokenizer import load_tokenizer\n",
    "import pandas as pd\n",
    "import os\n",
    "from utils.const import PREPROCESSED_DATA_DIR\n",
    "import numpy as np\n",
    "import matplotlib.pyplot as plt\n",
    "from sklearn import svm, metrics\n",
    "import tensorflow as tf\n",
    "from gensim.models import Word2Vec\n",
    "import multiprocessing"
   ]
  },
  {
   "cell_type": "code",
   "execution_count": null,
   "metadata": {},
   "outputs": [],
   "source": [
    "def load_datasets() -> tuple[pd.DataFrame]:\n",
    "    return (\n",
    "        pd.read_excel(os.path.join(PREPROCESSED_DATA_DIR, \"train.xlsx\")),\n",
    "        pd.read_excel(os.path.join(PREPROCESSED_DATA_DIR, \"valid.xlsx\")),\n",
    "        pd.read_excel(os.path.join(PREPROCESSED_DATA_DIR, \"test.xlsx\")),\n",
    "    )"
   ]
  },
  {
   "cell_type": "code",
   "execution_count": null,
   "metadata": {},
   "outputs": [],
   "source": [
    "cores = multiprocessing.cpu_count()  # Count the number of cores in a computer"
   ]
  },
  {
   "cell_type": "code",
   "execution_count": null,
   "metadata": {},
   "outputs": [],
   "source": [
    "w2v_model = Word2Vec(\n",
    "    min_count=20,\n",
    "    window=2,\n",
    "    vector_size=300,\n",
    "    sample=6e-5,\n",
    "    alpha=0.03,\n",
    "    min_alpha=0.0007,\n",
    "    negative=20,\n",
    "    workers=cores - 1,\n",
    ")"
   ]
  },
  {
   "cell_type": "code",
   "execution_count": null,
   "metadata": {},
   "outputs": [],
   "source": [
    "trn, val, test = load_datasets()\n",
    "\n",
    "tokens_trn = trn[\"text\"].str.split()\n",
    "tokens_val = val[\"text\"].str.split()\n",
    "tokens_test = test[\"text\"].str.split()\n"
   ]
  },
  {
   "cell_type": "code",
   "execution_count": null,
   "metadata": {},
   "outputs": [],
   "source": [
    "w2v_model.build_vocab(tokens_trn, progress_per=10000)\n",
    "w2v_model.train(tokens_trn, total_examples=w2v_model.corpus_count, epochs=30, report_delay=1)"
   ]
  },
  {
   "cell_type": "code",
   "execution_count": null,
   "metadata": {},
   "outputs": [],
   "source": [
    "# w2v_model.init_sims(replace=True) # Funkcja sprawia że model nie będzie już więcej uczony(oszczędza to pamięć)"
   ]
  },
  {
   "cell_type": "code",
   "execution_count": null,
   "metadata": {},
   "outputs": [],
   "source": [
    "# w2v_model.wv.most_similar(positive=[\"poland\"])\n",
    "w2v_model.wv.most_similar(positive=[\"beautiful\"])\n"
   ]
  },
  {
   "cell_type": "markdown",
   "metadata": {},
   "source": [
    "### Tokenization tensorflow"
   ]
  },
  {
   "cell_type": "code",
   "execution_count": null,
   "metadata": {},
   "outputs": [],
   "source": [
    "trn, val, test = load_datasets()\n",
    "\n",
    "tokenizer = load_tokenizer()\n",
    "tokens_trn = tokenizer.texts_to_sequences(trn[\"text\"])\n",
    "tokens_val = tokenizer.texts_to_sequences(val[\"text\"])\n",
    "tokens_test = tokenizer.texts_to_sequences(test[\"text\"])\n",
    "\n",
    "vector_size = 20  # duzszy vector nie dawal lepszej dokladnosci\n",
    "\n",
    "# Padding <- kazdy tekst ma te sama dlugosc\n",
    "padding_trn = tf.keras.utils.pad_sequences(tokens_trn, vector_size, padding=\"post\")\n",
    "padding_val = tf.keras.utils.pad_sequences(tokens_val, vector_size, padding=\"post\")\n",
    "padding_test = tf.keras.utils.pad_sequences(tokens_val, vector_size, padding=\"post\")"
   ]
  },
  {
   "cell_type": "markdown",
   "metadata": {},
   "source": [
    "### Tokenization Word2Vec"
   ]
  },
  {
   "cell_type": "code",
   "execution_count": null,
   "metadata": {},
   "outputs": [],
   "source": []
  },
  {
   "cell_type": "code",
   "execution_count": null,
   "metadata": {},
   "outputs": [],
   "source": [
    "for emotion in trn.columns[1:]:\n",
    "    y_trn = trn[emotion]\n",
    "    # y_val = val[emotion]\n",
    "    y_test = test[emotion]\n",
    "\n",
    "    # train\n",
    "    clf = svm.SVC()\n",
    "    clf.fit(padding_trn, y_trn)\n",
    "\n",
    "    # test\n",
    "    y_pred = clf.predict(padding_test)\n",
    "\n",
    "    print(\"Accuracy: \", metrics.accuracy_score(y_test, y_pred))"
   ]
  },
  {
   "cell_type": "code",
   "execution_count": null,
   "metadata": {},
   "outputs": [],
   "source": [
    "print(len(y_test))\n",
    "len(y_test.where(y_test > 0).dropna())"
   ]
  },
  {
   "cell_type": "code",
   "execution_count": null,
   "metadata": {},
   "outputs": [],
   "source": []
  }
 ],
 "metadata": {
  "kernelspec": {
   "display_name": "Python 3.10.6 ('.venv': venv)",
   "language": "python",
   "name": "python3"
  },
  "language_info": {
   "codemirror_mode": {
    "name": "ipython",
    "version": 3
   },
   "file_extension": ".py",
   "mimetype": "text/x-python",
   "name": "python",
   "nbconvert_exporter": "python",
   "pygments_lexer": "ipython3",
   "version": "3.10.6"
  },
  "orig_nbformat": 4,
  "vscode": {
   "interpreter": {
    "hash": "28801f58403a834cf1820fea4a75637acee5bfd781f4dfd58b8ec471025d669e"
   }
  }
 },
 "nbformat": 4,
 "nbformat_minor": 2
}
