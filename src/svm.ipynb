{
 "cells": [
  {
   "cell_type": "code",
   "execution_count": 2,
   "metadata": {},
   "outputs": [
    {
     "name": "stderr",
     "output_type": "stream",
     "text": [
      "2023-01-07 19:27:29.086821: I tensorflow/core/platform/cpu_feature_guard.cc:193] This TensorFlow binary is optimized with oneAPI Deep Neural Network Library (oneDNN) to use the following CPU instructions in performance-critical operations:  AVX2 FMA\n",
      "To enable them in other operations, rebuild TensorFlow with the appropriate compiler flags.\n"
     ]
    }
   ],
   "source": [
    "from utils.tokenizer import load_tokenizer\n",
    "import pandas as pd\n",
    "import os\n",
    "from utils.const import PREPROCESSED_DATA_DIR\n",
    "import numpy as np\n",
    "import matplotlib.pyplot as plt\n",
    "from sklearn import svm, metrics\n",
    "import tensorflow as tf"
   ]
  },
  {
   "cell_type": "code",
   "execution_count": 3,
   "metadata": {},
   "outputs": [],
   "source": [
    "def load_datasets() -> tuple[pd.DataFrame]:\n",
    "    return (\n",
    "        pd.read_excel(os.path.join(PREPROCESSED_DATA_DIR, \"train.xlsx\")),\n",
    "        pd.read_excel(os.path.join(PREPROCESSED_DATA_DIR, \"valid.xlsx\")),\n",
    "        pd.read_excel(os.path.join(PREPROCESSED_DATA_DIR, \"test.xlsx\")),\n",
    "    )"
   ]
  },
  {
   "cell_type": "markdown",
   "metadata": {},
   "source": [
    "### Tokenization"
   ]
  },
  {
   "cell_type": "code",
   "execution_count": 4,
   "metadata": {},
   "outputs": [],
   "source": [
    "trn, val, test = load_datasets()\n",
    "\n",
    "tokenizer = load_tokenizer()\n",
    "tokens_trn = tokenizer.texts_to_sequences(trn[\"text\"])\n",
    "tokens_val = tokenizer.texts_to_sequences(val[\"text\"])\n",
    "tokens_test = tokenizer.texts_to_sequences(test[\"text\"])\n",
    "\n",
    "# T = (trn[\"text\"].map(lambda x: len(x)).max())  # Input sequence size / max sequence length\n",
    "T = 20  # Input sequence size / max sequence length\n",
    "\n",
    "# Padding <- kazdy tekst ma te sama dlugosc\n",
    "padding_trn = tf.keras.utils.pad_sequences(tokens_trn, T, padding=\"post\")\n",
    "padding_val = tf.keras.utils.pad_sequences(tokens_val, T, padding=\"post\")\n",
    "padding_test = tf.keras.utils.pad_sequences(tokens_val, T, padding=\"post\")"
   ]
  },
  {
   "cell_type": "code",
   "execution_count": 5,
   "metadata": {},
   "outputs": [],
   "source": [
    "for emotion in trn.columns[1:3]:\n",
    "    y_trn = trn[emotion]\n",
    "    # y_val = val[emotion]\n",
    "    y_test = test[emotion]\n",
    "\n",
    "    # train\n",
    "    clf = svm.SVC(kernel=\"linear\")\n",
    "    clf.fit(padding_trn, y_trn)\n",
    "\n",
    "    # test\n",
    "    y_pred = clf.predict(tokens_test)\n",
    "\n",
    "    print(\"Accuracy: \", metrics.accuracy_score(y_test, y_pred))"
   ]
  }
 ],
 "metadata": {
  "kernelspec": {
   "display_name": "Python 3.10.6 ('.venv': venv)",
   "language": "python",
   "name": "python3"
  },
  "language_info": {
   "codemirror_mode": {
    "name": "ipython",
    "version": 3
   },
   "file_extension": ".py",
   "mimetype": "text/x-python",
   "name": "python",
   "nbconvert_exporter": "python",
   "pygments_lexer": "ipython3",
   "version": "3.10.6"
  },
  "orig_nbformat": 4,
  "vscode": {
   "interpreter": {
    "hash": "28801f58403a834cf1820fea4a75637acee5bfd781f4dfd58b8ec471025d669e"
   }
  }
 },
 "nbformat": 4,
 "nbformat_minor": 2
}
