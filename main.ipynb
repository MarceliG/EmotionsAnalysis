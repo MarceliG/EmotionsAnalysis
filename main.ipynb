{
 "cells": [
  {
   "cell_type": "code",
   "execution_count": 8,
   "metadata": {},
   "outputs": [],
   "source": [
    "import pandas as pd\n",
    "import seaborn as sns\n",
    "from matplotlib import pyplot as plt\n",
    "from statsmodels.distributions.empirical_distribution import ECDF\n"
   ]
  },
  {
   "cell_type": "code",
   "execution_count": 9,
   "metadata": {},
   "outputs": [],
   "source": [
    "# load the data\n",
    "path = \"StudEmo_2022_sample\"\n",
    "train = pd.read_excel(path + \"/train.xlsx\")\n",
    "test = pd.read_excel(path + \"/test.xlsx\")\n",
    "validation = pd.read_excel(path + \"/valid.xlsx\")\n",
    "\n",
    "df = pd.concat([train, test, validation])"
   ]
  },
  {
   "cell_type": "code",
   "execution_count": 10,
   "metadata": {},
   "outputs": [],
   "source": [
    "# need to describe the data\n",
    "df.columns\n",
    "df.min()\n",
    "df.max()\n",
    "\n",
    "numerical_col = [\n",
    "    \"joy_x\",\n",
    "    \"trust_x\",\n",
    "    \"anticipation_x\",\n",
    "    \"surprise_x\",\n",
    "    \"fear_x\",\n",
    "    \"sadness_x\",\n",
    "    \"disgust_x\",\n",
    "    \"anger_x\",\n",
    "    \"valence_x\",\n",
    "    \"arousal_x\",\n",
    "    \"joy_y\",\n",
    "    \"trust_y\",\n",
    "    \"anticipation_y\",\n",
    "    \"surprise_y\",\n",
    "    \"fear_y\",\n",
    "    \"sadness_y\",\n",
    "    \"disgust_y\",\n",
    "    \"anger_y\",\n",
    "    \"valence_y\",\n",
    "    \"arousal_y\",\n",
    "]"
   ]
  },
  {
   "cell_type": "markdown",
   "metadata": {},
   "source": [
    "### Functions"
   ]
  },
  {
   "cell_type": "markdown",
   "metadata": {},
   "source": [
    "#### ksdensity"
   ]
  },
  {
   "cell_type": "code",
   "execution_count": 4,
   "metadata": {},
   "outputs": [],
   "source": [
    "def create_histogram(sample, which_col, person):\n",
    "    \"\"\"sample - one column\n",
    "    histogram + median + mean\n",
    "    person = { X , Y}\n",
    "    which_col = {joy, trust, anticipation, ...}\"\"\"\n",
    "    plt.figure(0)\n",
    "\n",
    "    result = plt.hist(\n",
    "        sample, bins=40, color=\"mediumseagreen\", edgecolor=\"k\", alpha=0.65\n",
    "    )\n",
    "    plt.axvline(sample.mean(), color=\"k\", linestyle=\"dashed\", linewidth=1)\n",
    "    plt.axvline(sample.median(), color=\"k\", linestyle=\"dashed\", linewidth=1)\n",
    "\n",
    "    min_ylim, max_ylim = plt.ylim()\n",
    "    plt.text(\n",
    "        sample.mean() * 1.1,\n",
    "        max_ylim * 0.9,\n",
    "        \"Mean: {:.2f}\".format(sample.mean()),\n",
    "    )\n",
    "    plt.text(\n",
    "        sample.median() * 1.1,\n",
    "        max_ylim * 0.8,\n",
    "        \"Median: {:.2f}\".format(sample.median()),\n",
    "    )\n",
    "\n",
    "    plt.grid()\n",
    "    plt.title(\n",
    "        \"Histogram of {which_col} for a person {person}\".format(\n",
    "            which_col=which_col, person=person\n",
    "        ),\n",
    "        loc=\"center\",\n",
    "    )\n",
    "    plt.xlabel(\"Value of opinion\")\n",
    "    plt.ylabel(\"Frequency\")\n",
    "    plt.show()"
   ]
  },
  {
   "cell_type": "markdown",
   "metadata": {},
   "source": [
    "#### ecdf"
   ]
  },
  {
   "cell_type": "code",
   "execution_count": 5,
   "metadata": {},
   "outputs": [],
   "source": [
    "def create_ecdf(sample, which_col, person):\n",
    "    \"\"\"sample - one column\n",
    "    person = {X , Y}\n",
    "    which_col = {joy, trust, anticipation, ...}\"\"\"\n",
    "    plt.figure(0)\n",
    "    ecdf = ECDF(sample)\n",
    "    plt.plot(ecdf.x, ecdf.y)\n",
    "\n",
    "    plt.grid()\n",
    "    plt.title(\n",
    "        \"Cumulative distribution function of {which_col} for a person {person}\".format(\n",
    "            which_col=which_col, person=person\n",
    "        ),\n",
    "        loc=\"center\",\n",
    "    )\n",
    "    plt.xlabel(\"Sample\")\n",
    "    plt.ylabel(\"Probability\")\n",
    "    plt.show()"
   ]
  },
  {
   "cell_type": "markdown",
   "metadata": {},
   "source": [
    "boxplot jakies slabe to na tych danych, nie wiem czy uzyjemy. Zobaczymy ile slajdow sie naprodukuje"
   ]
  },
  {
   "cell_type": "code",
   "execution_count": 11,
   "metadata": {},
   "outputs": [],
   "source": [
    "def normalization(df, numerical_col):\n",
    "    # normalization  musi byc min-max a nie -mean/ std bo mamy wartosci ujemne\n",
    "    # w kolumnach\n",
    "    normalized_df = (df[numerical_col] - df[numerical_col].min()) / (\n",
    "        df[numerical_col].max() - df[numerical_col].min()\n",
    "    )\n",
    "    return normalized_df"
   ]
  },
  {
   "cell_type": "code",
   "execution_count": 1,
   "metadata": {},
   "outputs": [],
   "source": [
    "def create_boxplot(normalized_df, numerical_col):\n",
    "    plt.figure(figsize=(16, 5))\n",
    "    plt.title(\"Boxplot of min-max normalized datasets\", fontsize=14)\n",
    "    boxplot = normalized_df.boxplot(column=numerical_col, rot=45, fontsize=12)"
   ]
  },
  {
   "cell_type": "markdown",
   "metadata": {},
   "source": [
    "#### heat map"
   ]
  },
  {
   "cell_type": "code",
   "execution_count": 9,
   "metadata": {},
   "outputs": [],
   "source": [
    "def create_heatmap(df, person):\n",
    "    plt.subplots(figsize=(18, 12))\n",
    "    corr = df.corr()\n",
    "    sns.heatmap(\n",
    "        corr,\n",
    "        xticklabels=corr.columns.values,\n",
    "        yticklabels=corr.columns.values,\n",
    "        linewidths=0.5,\n",
    "        annot=True,\n",
    "    ).set(title=\"Heat map for a person {person}\".format(person=person))"
   ]
  },
  {
   "cell_type": "markdown",
   "metadata": {},
   "source": [
    "#### Analysis for person X"
   ]
  },
  {
   "cell_type": "code",
   "execution_count": null,
   "metadata": {},
   "outputs": [],
   "source": [
    "for col_name in numerical_col[: len(numerical_col) // 2]:\n",
    "    create_histogram(df[col_name], col_name[: len(col_name) - 2], \"X\")\n",
    "    create_ecdf(df[col_name], col_name[: len(col_name) - 2], \"X\")\n",
    "create_heatmap(df, \"X\")"
   ]
  },
  {
   "cell_type": "markdown",
   "metadata": {},
   "source": [
    "#### Analysis for person Y"
   ]
  },
  {
   "cell_type": "code",
   "execution_count": 17,
   "metadata": {},
   "outputs": [
    {
     "ename": "NameError",
     "evalue": "name 'create_histogram' is not defined",
     "output_type": "error",
     "traceback": [
      "\u001b[0;31m---------------------------------------------------------------------------\u001b[0m",
      "\u001b[0;31mNameError\u001b[0m                                 Traceback (most recent call last)",
      "Cell \u001b[0;32mIn [17], line 2\u001b[0m\n\u001b[1;32m      1\u001b[0m \u001b[39mfor\u001b[39;00m col_name \u001b[39min\u001b[39;00m numerical_col[\u001b[39mlen\u001b[39m(numerical_col) \u001b[39m/\u001b[39m\u001b[39m/\u001b[39m \u001b[39m2\u001b[39m \u001b[39m+\u001b[39m \u001b[39m1\u001b[39m :]:\n\u001b[0;32m----> 2\u001b[0m     create_histogram(df[col_name], col_name[: \u001b[39mlen\u001b[39m(col_name) \u001b[39m-\u001b[39m \u001b[39m2\u001b[39m], \u001b[39m\"\u001b[39m\u001b[39mY\u001b[39m\u001b[39m\"\u001b[39m)\n\u001b[1;32m      3\u001b[0m     create_ecdf(df[col_name], col_name[: \u001b[39mlen\u001b[39m(col_name) \u001b[39m-\u001b[39m \u001b[39m2\u001b[39m], \u001b[39m\"\u001b[39m\u001b[39mY\u001b[39m\u001b[39m\"\u001b[39m)\n\u001b[1;32m      4\u001b[0m create_heatmap(df, \u001b[39m\"\u001b[39m\u001b[39mY\u001b[39m\u001b[39m\"\u001b[39m)\n",
      "\u001b[0;31mNameError\u001b[0m: name 'create_histogram' is not defined"
     ]
    }
   ],
   "source": [
    "for col_name in numerical_col[len(numerical_col) // 2 + 1 :]:\n",
    "    create_histogram(df[col_name], col_name[: len(col_name) - 2], \"Y\")\n",
    "    create_ecdf(df[col_name], col_name[: len(col_name) - 2], \"Y\")\n",
    "create_heatmap(df, \"Y\")"
   ]
  },
  {
   "cell_type": "markdown",
   "metadata": {},
   "source": [
    "#### Comparison of X and Y; mean opinion value\n",
    "calculate mean value"
   ]
  },
  {
   "cell_type": "code",
   "execution_count": 13,
   "metadata": {},
   "outputs": [],
   "source": [
    "joy_x = numerical_col[0]\n",
    "joy_y = numerical_col[10]\n",
    "new_col = (df[joy_x] + df[joy_y]) / 2\n",
    "mean_opinion = new_col\n",
    "numerical = joy_x\n",
    "names = [numerical[: len(numerical) - 2]]\n",
    "\n",
    "for i in range(1, 10):\n",
    "    new_col = (df[numerical_col[i]] + df[numerical_col[i + 10]]) / 2\n",
    "    mean_opinion = pd.concat([mean_opinion, new_col], axis=1)\n",
    "\n",
    "    column_name = numerical_col[i]\n",
    "    names.append(column_name[: len(column_name) - 2])\n",
    "\n",
    "mean_opinion.columns = names\n"
   ]
  },
  {
   "cell_type": "markdown",
   "metadata": {},
   "source": [
    "### analysis"
   ]
  },
  {
   "cell_type": "code",
   "execution_count": null,
   "metadata": {},
   "outputs": [],
   "source": [
    "for col_name in names:\n",
    "    create_histogram(mean_opinion[col_name], col_name, \"mean(X,Y)\")\n",
    "    create_ecdf(mean_opinion[col_name], col_name, \"mean(X,Y)\")\n",
    "create_heatmap(mean_opinion, \"mean(X,Y)\")\n"
   ]
  },
  {
   "cell_type": "code",
   "execution_count": null,
   "metadata": {},
   "outputs": [],
   "source": [
    "plt.hist(df[\"joy_x\"], bins=10, alpha=0.5, label=\"joy_x\")\n",
    "plt.hist(df[\"joy_y\"], bins=10, alpha=0.5, label=\"joy_y\")\n",
    "plt.xlabel(\"Data\", size=14)\n",
    "plt.legend(loc=\"upper right\")"
   ]
  }
 ],
 "metadata": {
  "kernelspec": {
   "display_name": "Python 3.10.8 ('venv': venv)",
   "language": "python",
   "name": "python3"
  },
  "language_info": {
   "codemirror_mode": {
    "name": "ipython",
    "version": 3
   },
   "file_extension": ".py",
   "mimetype": "text/x-python",
   "name": "python",
   "nbconvert_exporter": "python",
   "pygments_lexer": "ipython3",
   "version": "3.10.8"
  },
  "orig_nbformat": 4,
  "vscode": {
   "interpreter": {
    "hash": "545013a1323ac85acbcb86b31ff0fee062e8a8ae28497f1d39d2de5e4f3ef90d"
   }
  }
 },
 "nbformat": 4,
 "nbformat_minor": 2
}
